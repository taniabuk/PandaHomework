{
 "cells": [
  {
   "cell_type": "code",
   "execution_count": null,
   "metadata": {},
   "outputs": [],
   "source": [
    "# Dependencies and Setup\n",
    "import pandas as pd\n",
    "import numpy as np\n",
    "\n",
    "# File to Load \n",
    "csvpath = \"purchase_data.csv\"\n",
    "\n",
    "# Read Purchasing File and store into Pandas data frame\n",
    "data_df = pd.read_csv(csvpath)\n",
    "data_df.head()\n"
   ]
  },
  {
   "cell_type": "code",
   "execution_count": null,
   "metadata": {},
   "outputs": [],
   "source": [
    "#Total Players\n",
    "total = len(data_df[\"SN\"].unique())\n",
    "total_players = pd.DataFrame({\"Total Players\": [total]})\n",
    "total_players"
   ]
  },
  {
   "cell_type": "code",
   "execution_count": null,
   "metadata": {},
   "outputs": [],
   "source": [
    "#Purchasing Analysis\n",
    "unique_items = len(data_df[\"Item ID\"].unique())\n",
    "average_price = round(data_df[\"Price\"].mean(), 2)\n",
    "purchases = len(data_df[\"Purchase ID\"])\n",
    "total_revenue = data_df[\"Price\"].sum()\n",
    "summary_data = pd.DataFrame({\"Number of Unique Items\": [unique_items],\n",
    "                            \"Average Price\": [average_price],\n",
    "                            \"Number of Purchases\": [purchases],\n",
    "                            \"Total Revenue\": [total_revenue]})\n",
    "summary_data[\"Average Price\"] = summary_data[\"Average Price\"].map(\"${:.2f}\".format)\n",
    "summary_data[\"Total Revenue\"] = summary_data[\"Total Revenue\"].map(\"${:,.2f}\".format)\n",
    "summary_data"
   ]
  },
  {
   "cell_type": "code",
   "execution_count": null,
   "metadata": {},
   "outputs": [],
   "source": [
    "#Gender Demographics\n",
    "data_df_nodup = data_df.drop_duplicates(subset=\"SN\", keep=\"first\")\n",
    "g_group = data_df_nodup.groupby([\"Gender\"])\n",
    "g_count = data_df_nodup[\"Gender\"].value_counts()\n",
    "g_percent = round(((g_count/total)*100), 2)\n",
    "summary_gender = pd.DataFrame({\"Total Count\": g_count,\n",
    "                              \"Percentage of Players\": g_percent})\n",
    "summary_gender"
   ]
  },
  {
   "cell_type": "code",
   "execution_count": null,
   "metadata": {},
   "outputs": [],
   "source": [
    "#Purchasing Analysis (Gender)\n",
    "gen_group = data_df.groupby([\"Gender\"])\n",
    "gen_purchases = data_df[\"Gender\"].value_counts()\n",
    "gen_average_price = round(gen_group[\"Price\"].mean(), 2)\n",
    "gen_total_revenue = gen_group[\"Price\"].sum()\n",
    "gen_aver = round((gen_total_revenue/g_count), 2)\n",
    "gen_summary_data = pd.DataFrame({\"Purchase Count\": gen_purchases,\n",
    "                            \"Average Purchase Price\": gen_average_price,\n",
    "                            \"Total Purchase Value\": gen_total_revenue,\n",
    "                            \"Average Total Purchase per Person\": gen_aver})\n",
    "gen_summary_data[\"Average Purchase Price\"] = gen_summary_data[\"Average Purchase Price\"].map(\"${:.2f}\".format)\n",
    "gen_summary_data[\"Total Purchase Value\"] = gen_summary_data[\"Total Purchase Value\"].map(\"${:,.2f}\".format)\n",
    "gen_summary_data[\"Average Total Purchase per Person\"] = gen_summary_data[\"Average Total Purchase per Person\"].map(\"${:.2f}\".format)\n",
    "gen_summary_data"
   ]
  },
  {
   "cell_type": "code",
   "execution_count": null,
   "metadata": {},
   "outputs": [],
   "source": [
    "#data_df[\"Age\"].unique()"
   ]
  },
  {
   "cell_type": "code",
   "execution_count": null,
   "metadata": {},
   "outputs": [],
   "source": [
    "#Age Demographics\n",
    "bins = [0, 9, 14, 19, 24, 29, 34, 39, 100]\n",
    "age_labels = [\"<10\", \"10-14\", \"15-19\", \"20-24\", \"25-29\", \"30-34\", \"35-39\", \"40+\"]\n",
    "data_df_nodup\n",
    "data = pd.cut(data_df_nodup[\"Age\"], bins, labels=age_labels)\n",
    "all_data = pd.concat([data_df_nodup,data],1)\n",
    "all_data.columns = [\"Purchase ID\", \"SN\", \"Age\", \"Gender\", \"Item ID\", \"Item Name\",\"Price\",\"Age Group\"]\n",
    "age_group = all_data.groupby([\"Age Group\"])\n",
    "age_count = all_data[\"Age Group\"].value_counts()\n",
    "age_percent = round(((age_count/total)*100), 2)\n",
    "age_summary = pd.DataFrame({\"Total Count\": age_count,\n",
    "                              \"Percentage of Players\": age_percent})\n",
    "age_summary.sort_index()"
   ]
  },
  {
   "cell_type": "code",
   "execution_count": null,
   "metadata": {},
   "outputs": [],
   "source": [
    "#Purchasing Analysis \n",
    "bins = [0, 9, 14, 19, 24, 29, 34, 39, 100]\n",
    "age_labels = [\"<10\", \"10-14\", \"15-19\", \"20-24\", \"25-29\", \"30-34\", \"35-39\", \"40+\"]\n",
    "data_df[\"Age Group\"] = pd.cut(data_df[\"Age\"], bins, labels=age_labels)\n",
    "\n",
    "age_group = data_df.groupby([\"Age Group\"])\n",
    "\n",
    "purchase_count = data_df[\"Age Group\"].value_counts()\n",
    "purchase_average = round(age_group[\"Price\"].mean(), 2)\n",
    "purchase_total = age_group[\"Price\"].sum()\n",
    "purtotal_aver = round((purchase_total/age_count), 2)\n",
    "\n",
    "purchase_summary = pd.DataFrame({\"Purchase Count\": purchase_count,\n",
    "                              \"Average Purchase Price\": purchase_average,\n",
    "                                \"Total Purchase Value\": purchase_total,\n",
    "                                \"Avg Total Purchase per Person\": purtotal_aver})\n",
    "\n",
    "purchase_summary[\"Average Purchase Price\"] = purchase_summary[\"Average Purchase Price\"].map(\"${:.2f}\".format)\n",
    "purchase_summary[\"Total Purchase Value\"] = purchase_summary[\"Total Purchase Value\"].map(\"${:,.2f}\".format)\n",
    "purchase_summary[\"Avg Total Purchase per Person\"] = purchase_summary[\"Avg Total Purchase per Person\"].map(\"${:.2f}\".format)\n",
    "purchase_summary.sort_index()"
   ]
  },
  {
   "cell_type": "code",
   "execution_count": null,
   "metadata": {},
   "outputs": [],
   "source": [
    "#Top Spenders\n",
    "sn_group = data_df.groupby([\"SN\"])\n",
    "sn_purchase = data_df[\"SN\"].value_counts()\n",
    "\n",
    "sn_average = round(sn_group[\"Price\"].mean(), 2)\n",
    "sn_purchase_total = sn_group[\"Price\"].sum()\n",
    "\n",
    "sn_summary = pd.DataFrame({\"Purchase Count\": sn_purchase,\n",
    "                              \"Average Purchase Price\": sn_average,\n",
    "                                \"Total Purchase Value\": sn_purchase_total})\n",
    "\n",
    "sn_summary1 = sn_summary.sort_values(by='Total Purchase Value',ascending=0)\n",
    "sn_summary1[\"Average Purchase Price\"] = sn_summary1[\"Average Purchase Price\"].map(\"${:.2f}\".format)\n",
    "sn_summary1[\"Total Purchase Value\"] = sn_summary1[\"Total Purchase Value\"].map(\"${:.2f}\".format)\n",
    "sn_summary1.head()"
   ]
  },
  {
   "cell_type": "code",
   "execution_count": null,
   "metadata": {},
   "outputs": [],
   "source": [
    "#data_df.columns"
   ]
  },
  {
   "cell_type": "code",
   "execution_count": null,
   "metadata": {
    "scrolled": true
   },
   "outputs": [],
   "source": [
    "#Most Popular Items\n",
    "pop_group = data_df.groupby([\"Item ID\", \"Item Name\"])\n",
    "\n",
    "pop_purchase = pop_group[\"Purchase ID\"].count()\n",
    "\n",
    "#pop_purchase = data_df[\"Item ID\"].value_counts()\n",
    "pop_average = round(pop_group[\"Price\"].mean(), 2)\n",
    "pop_purchase_total = pop_group[\"Price\"].sum()\n",
    "#pop_name = pop_group[\"Item Name\"]\n",
    "\n",
    "pop_summary = pd.DataFrame({\"Purchase Count\": pop_purchase,\n",
    "                              \"Item Price\": pop_average,\n",
    "                                \"Total Purchase Value\": pop_purchase_total})\n",
    "\n",
    "pop_summary1 = pop_summary.sort_values(by='Purchase Count',ascending=0)\n",
    "pop_summary1[\"Item Price\"] = pop_summary1[\"Item Price\"].map(\"${:.2f}\".format)\n",
    "pop_summary1[\"Total Purchase Value\"] = pop_summary1[\"Total Purchase Value\"].map(\"${:.2f}\".format)\n",
    "pop_summary1.head()"
   ]
  },
  {
   "cell_type": "code",
   "execution_count": null,
   "metadata": {},
   "outputs": [],
   "source": [
    "#Most Profitable Items\n",
    "pop_summary = pd.DataFrame({\"Purchase Count\": pop_purchase,\n",
    "                              \"Item Price\": pop_average,\n",
    "                                \"Total Purchase Value\": pop_purchase_total.astype(float)})\n",
    "pop_summary1 = pop_summary.sort_values(by='Total Purchase Value',ascending=0)\n",
    "pop_summary1[\"Item Price\"] = pop_summary1[\"Item Price\"].map(\"${:.2f}\".format)\n",
    "pop_summary1[\"Total Purchase Value\"] = pop_summary1[\"Total Purchase Value\"].map(\"${:.2f}\".format)\n",
    "pop_summary1.head()"
   ]
  }
 ],
 "metadata": {
  "kernelspec": {
   "display_name": "Python 3",
   "language": "python",
   "name": "python3"
  },
  "language_info": {
   "codemirror_mode": {
    "name": "ipython",
    "version": 3
   },
   "file_extension": ".py",
   "mimetype": "text/x-python",
   "name": "python",
   "nbconvert_exporter": "python",
   "pygments_lexer": "ipython3",
   "version": "3.7.3"
  }
 },
 "nbformat": 4,
 "nbformat_minor": 2
}
